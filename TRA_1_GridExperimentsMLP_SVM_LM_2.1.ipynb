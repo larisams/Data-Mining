{
 "cells": [
  {
   "cell_type": "code",
   "execution_count": 2,
   "metadata": {
    "collapsed": true
   },
   "outputs": [],
   "source": [
    "import re \n",
    "from random import randint"
   ]
  },
  {
   "cell_type": "markdown",
   "metadata": {},
   "source": [
    "**Classifier_Representation_Parameters_type**  \n",
    "\n",
    "Classifier:\n",
    "    - SVM\n",
    "    - Other  \n",
    "Representation:\n",
    "    - L = lemma  \n",
    "    - P = pos Tag    \n",
    "    - R = rs and disease tag\n",
    "Parameters position:\n",
    "    1. Vectorizer\n",
    "        (1) TFIDF \n",
    "        (2) BINARY \n",
    "        (3) TFIDFBINARY\n",
    "    3. ngrams:\n",
    "        (1) 1\n",
    "        (2) 2\n",
    "        (3) 3\n",
    "        (4) 1,2\n",
    "        (5) 1,3\n",
    "    4.Class weight\n",
    "        (0) unbalanced\n",
    "        (1) balanced\n",
    "    5. Remove stop words\n",
    "        (0) False\n",
    "        (1) True\n",
    "        \n",
    "SVM:  \n",
    "\n",
    "     1.Kernel  \n",
    "        (1) linear  \n",
    "        (2) poly  \n",
    "        (3) rbf  \n",
    "MLP:\n",
    "\n",
    "    1.Hidden Layers\n",
    "        (1) one \n",
    "        (2) one\n",
    "    2.Activation Formula\n",
    "        (1) Linear\n",
    "        (2) tanh\n",
    "        (3) relu"
   ]
  },
  {
   "cell_type": "markdown",
   "metadata": {},
   "source": [
    "**Command lines description **  \n",
    "\n",
    "***Basic***      \n",
    "\n",
    "    --inputPath >>> mainInPath  \n",
    "    --inputTrainingClasses >>>  \n",
    "    --outputPath >>> mainOutPath  \n",
    "    --positiveClass >>> DISEASE\n",
    "    --sgram\n",
    "    --fgram\n",
    "    \n",
    "***Combinatory***     \n",
    "\n",
    "    --inputTrainingSentences >>> trainS  \n",
    "    --outputFile >>> outf  \n",
    "    --classifier >>> classifier(SVM,O)  \n",
    "    --removeStopWords >>> remStopWds (TRUE,FALSE)   \n",
    "    --vectype >>> vectorizer (TFIDF,BINARY,TFIDFBINARY)  \n",
    "    --classweight >>> classweight (balanced,unbalanced) \n",
    "    \n",
    "***SVM only***   \n",
    "\n",
    "    --kernel >>> kernel  \n",
    "    \n",
    "***MLP only***\n",
    "\n",
    "    --hiddenlayers >>> hlayers (1,2)\n",
    "    --activation >>> activation (linear,tanh,relu)"
   ]
  },
  {
   "cell_type": "markdown",
   "metadata": {},
   "source": [
    "#### Building input paths"
   ]
  },
  {
   "cell_type": "code",
   "execution_count": 27,
   "metadata": {
    "collapsed": true
   },
   "outputs": [],
   "source": [
    "mainInPath = r'/home/larisams/DataMin/Training/inputData'\n",
    "mainOutPath = r'/home/larisams/DataMin/Training/outputData'\n",
    "trainS = [r'training_AC_LRK.txt',r'training_AC_LR.txt']\n",
    "inTrainClass = r'training-classes.txt'\n",
    "params = ['--']"
   ]
  },
  {
   "cell_type": "markdown",
   "metadata": {},
   "source": [
    "#### Building parameters dictionay "
   ]
  },
  {
   "cell_type": "code",
   "execution_count": 28,
   "metadata": {
    "collapsed": true
   },
   "outputs": [],
   "source": [
    "vectorizer = {'TFIDF':'1','BINARY':'2','TFIDFBINARY':'3'}\n",
    "remStopWds = {'T':'1','F':'0'} \n",
    "ngrams = {'1':['1'],'2':['2'],'3':['3'],'4':['1','2'],'5':['1','3']}\n",
    "classweight = {'unbalanced':'0','balanced':'1'}\n",
    "kernel = {'linear':'1','poly':'2','rbf':'3'}\n",
    "script = 'Lmod_training-cross-validation-improving.py'\n",
    "BasicParm = ' '.join(['python3',str(script),'--inputPath',str(mainInPath),'--inputTrainingClasses',str(inTrainClass),'--outputPath',str(mainOutPath),'--positiveClass','DISEASE'])\n",
    "CP = ['--inputTrainingSentences','--outputFile','--classifier','--vectype','--classweight','--sngram','--fngram']\n",
    "activationF = {'identity':'1','tanh':'2','relu':'3'}"
   ]
  },
  {
   "cell_type": "markdown",
   "metadata": {},
   "source": [
    "### Grid MLP"
   ]
  },
  {
   "cell_type": "code",
   "execution_count": 29,
   "metadata": {},
   "outputs": [],
   "source": [
    "cmline,outf ='',''\n",
    "i=0\n",
    "grid = open(r'/Users/larisams/Dropbox/Projects/BI/MineriaDatos/Training-CV/Grid_MLP.sh','w')\n",
    "for ts in trainS:\n",
    "    for vec in vectorizer:\n",
    "        for ng in ngrams:\n",
    "            for ac in activationF:\n",
    "                for cw in classweight:\n",
    "                    for sw in remStopWds:\n",
    "                        outf,cmline,sgr,fgr = '','','',''\n",
    "                        sgr= ngrams[ng][0]\n",
    "                        fgr= ngrams[ng][0]\n",
    "                        if len(ngrams[ng])>1:\n",
    "                            fgr = ngrams[ng][1]\n",
    "                        hl = str(randint(100,250))\n",
    "                        outf = 'MLP'+'_'+re.search(r'_(.*).txt',ts).group(1)+'_'+vectorizer[vec]+ng+activationF[ac]+classweight[cw]+remStopWds[sw]+'_'+hl+'.txt'\n",
    "                        cmline = ' '.join([BasicParm,CP[0],ts,CP[1],outf,CP[2],'MLP',CP[3],vec,CP[4],cw,CP[5],sgr,CP[6],fgr,\"--hiddenlayer\",hl+',','--activation',ac])\n",
    "                        if remStopWds[sw] == '1':\n",
    "                            cmline = ' '.join([cmline,\"--removeStopWords\"])\n",
    "                        cat = 'cat {} {} > ed && mv ed {} | rm {}\\n'.format('/'.join([mainOutPath,'FinalReport.txt']),'/'.join([mainOutPath,outf]),'/'.join([mainOutPath,'FinalReport.txt']),'/'.join([mainOutPath,outf]))\n",
    "                        grid.write(cmline+'\\n'+cat)\n",
    "                        i+=1\n",
    "grid.close()"
   ]
  },
  {
   "cell_type": "markdown",
   "metadata": {},
   "source": [
    "### Grid SVM"
   ]
  },
  {
   "cell_type": "code",
   "execution_count": 30,
   "metadata": {},
   "outputs": [],
   "source": [
    "cmline,outf ='',''\n",
    "i=0\n",
    "grid = open(r'/Users/larisams/Dropbox/Projects/BI/MineriaDatos/Training-CV/Grid_SVM.sh','w')\n",
    "for ts in trainS:\n",
    "    for vec in vectorizer:\n",
    "        for ng in ngrams:\n",
    "            for ker in kernel:\n",
    "                for cw in classweight:\n",
    "                        for sw in remStopWds:\n",
    "                            outf,cmline = '',''\n",
    "                            outf = 'SVM'+'_'+re.search(r'_(.*).txt',ts).group(1)+'_'+vectorizer[vec]+ng+classweight[cw]+kernel[ker]+remStopWds[sw]+'.txt'\n",
    "                            cmline = ' '.join([BasicParm,CP[0],ts,CP[1],outf,CP[2],'SVM',CP[3],vec,CP[4],cw,CP[5],sgr,CP[6],fgr,'--kernel',ker])\n",
    "                            if remStopWds[sw] == '1':\n",
    "                                cmline = ' '.join([cmline,\"--removeStopWords\"])\n",
    "                            cat = 'cat {} {} > ed && mv ed {} | rm {}\\n'.format('/'.join([mainOutPath,'FinalReport.txt']),'/'.join([mainOutPath,outf]),'/'.join([mainOutPath,'FinalReport.txt']),'/'.join([mainOutPath,outf]))\n",
    "                            grid.write(cmline+'\\n'+cat)\n",
    "                            i+=1\n",
    "grid.close()"
   ]
  },
  {
   "cell_type": "code",
   "execution_count": null,
   "metadata": {
    "collapsed": true
   },
   "outputs": [],
   "source": []
  }
 ],
 "metadata": {
  "kernelspec": {
   "display_name": "Python 3",
   "language": "python",
   "name": "python3"
  },
  "language_info": {
   "codemirror_mode": {
    "name": "ipython",
    "version": 3
   },
   "file_extension": ".py",
   "mimetype": "text/x-python",
   "name": "python",
   "nbconvert_exporter": "python",
   "pygments_lexer": "ipython3",
   "version": "3.6.2"
  }
 },
 "nbformat": 4,
 "nbformat_minor": 2
}
