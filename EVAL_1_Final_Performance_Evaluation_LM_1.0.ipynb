{
 "cells": [
  {
   "cell_type": "code",
   "execution_count": null,
   "metadata": {
    "collapsed": true
   },
   "outputs": [],
   "source": [
    "# ============================================================================================\n",
    "# >>>>>>>>>>>>>>>>>>>>>>>>>>>> Evaluation of extracted associations <<<<<<<<<<<<<<<<<<<<<<<<<<\n",
    "# AUTHOR : Roberto Olayo and Larisa Morales \n",
    "# VERSION: 1.0\n",
    "# CREATED: 18/09/2017 10:55 pm\n",
    "# DESCRIPTION: This programs first parses the output file with the classified sentences to \n",
    "# extract the rs and phenotypes by means of their tags in order to perform the final evaluation\n",
    "# comparing the results to the gold standard \n",
    "# USAGE :\n",
    "# > PART 1\n",
    "# newarch = open(\"3_Sentence_Splitted_Pars_Tagged.txt\",\"w\")\n",
    "# coreOUT = r'/Users/larisams/Dropbox/Projects/BI/MineriaDatos/Files/2_All_sentences_Tagged_RS_PHEN_COREoutput.txt.out'\n",
    "# > PART 2 \n",
    "# tagFile = r'/Users/larisams/Dropbox/Projects/BI/MineriaDatos/Files/1_AB_All_abstract_Tagged_RS_PHEN.txt'\n",
    "# AssFile = open(r'/Users/larisams/Dropbox/Projects/BI/MineriaDatos/Files/3_RS-Phen_Assoc.txt','w')\n",
    "# REQUIREMENTS : Flat text input files for the gold standard and the classified sentences, paths must be added directly to the code\n",
    "# CATEGORY : Standalone\n",
    "# INPUT FORMAT : Flat text\n",
    "# OUTPUT FORMAT : The output resembles the input file including the text where the phenotype \n",
    "# names are located, including the added tags (<PHE>phenotype name</PHE>), it also prints to the stdout the evaluation metrics \n",
    "# LANGUAGE : Python\n",
    "# PATH PROGRAM : /Users/larisams/Dropbox/Projects/BI/MineriaDatos/scripts\n",
    "# ============================================================================================="
   ]
  },
  {
   "cell_type": "code",
   "execution_count": 3,
   "metadata": {
    "collapsed": true
   },
   "outputs": [],
   "source": [
    "import re\n",
    "from collections import defaultdict as df"
   ]
  },
  {
   "cell_type": "markdown",
   "metadata": {},
   "source": [
    "### Evaluation of extracted associations "
   ]
  },
  {
   "cell_type": "markdown",
   "metadata": {},
   "source": [
    "input = non-redundant gold standard and associations file    \n",
    "output = values of the metrics precision, recall and F1 score"
   ]
  },
  {
   "cell_type": "code",
   "execution_count": 1,
   "metadata": {
    "collapsed": true
   },
   "outputs": [],
   "source": [
    "goldstd = r'/Users/larisams/Dropbox/Projects/BI/MineriaDatos/Files/3_gold_std_nonredundant.txt'\n",
    "output = r'/Users/larisams/Dropbox/Projects/BI/MineriaDatos/Files/3_Nonredundant_RS-Phen_Assoc.txt'"
   ]
  },
  {
   "cell_type": "code",
   "execution_count": 4,
   "metadata": {},
   "outputs": [],
   "source": [
    "#Loading gold standard in gs_dic\n",
    "gs_dic = df(str)\n",
    "ref = 0\n",
    "with open(goldstd,'r') as gs:\n",
    "    for line in gs:\n",
    "        gs_dic[line.split('\\t')[0]] += line.split('\\t')[1]\n",
    "        ref += 1\n"
   ]
  },
  {
   "cell_type": "code",
   "execution_count": 5,
   "metadata": {
    "collapsed": true
   },
   "outputs": [],
   "source": [
    "#Comparing output to gold standard\n",
    "extr,extr_corr = 0,0\n",
    "with open(output,'r') as out:\n",
    "    for line in out:\n",
    "        line = line.rstrip('\\n')\n",
    "        rs,phen = line.split('\\t')[0],line.split('\\t')[1]\n",
    "        if re.search(phen,gs_dic[rs],re.IGNORECASE):\n",
    "            extr_corr += 1\n",
    "        extr +=1"
   ]
  },
  {
   "cell_type": "code",
   "execution_count": 6,
   "metadata": {
    "collapsed": true
   },
   "outputs": [],
   "source": [
    "# Calculating evaluation metrics\n",
    "precision = extr_corr/extr\n",
    "recall = extr_corr/ref\n",
    "F_1 = 2*((precision*recall)/(precision+recall))"
   ]
  },
  {
   "cell_type": "code",
   "execution_count": 7,
   "metadata": {},
   "outputs": [
    {
     "name": "stdout",
     "output_type": "stream",
     "text": [
      "497 305 72863\n",
      "0.613682092555332 0.004185937993220153 0.008315158124318428\n"
     ]
    }
   ],
   "source": [
    "print (extr,extr_corr,ref)\n",
    "print (precision,recall,F_1)"
   ]
  }
 ],
 "metadata": {
  "kernelspec": {
   "display_name": "Python 3",
   "language": "python",
   "name": "python3"
  },
  "language_info": {
   "codemirror_mode": {
    "name": "ipython",
    "version": 3
   },
   "file_extension": ".py",
   "mimetype": "text/x-python",
   "name": "python",
   "nbconvert_exporter": "python",
   "pygments_lexer": "ipython3",
   "version": "3.6.2"
  }
 },
 "nbformat": 4,
 "nbformat_minor": 2
}
