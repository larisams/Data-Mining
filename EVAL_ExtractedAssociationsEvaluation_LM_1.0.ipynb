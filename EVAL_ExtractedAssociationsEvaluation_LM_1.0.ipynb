{
 "cells": [
  {
   "cell_type": "code",
   "execution_count": 1,
   "metadata": {
    "collapsed": true
   },
   "outputs": [],
   "source": [
    "# ============================================================================================\n",
    "# >>>>>>>>>>>>>>>>>>>>>>>>>>>> ExtractedAssociations Evaluation <<<<<<<<<<<<<<<<<<<<<<<<<<<<<<<\n",
    "# AUTHOR : Roberto Olayo and Larisa Morales \n",
    "# VERSION: 1.0\n",
    "# CREATED: 18/09/2017 10:55 pm\n",
    "# DESCRIPTION: This program performs the final evaluation of the extracted associations \n",
    "# comparing them to the gold standard \n",
    "# USAGE :\n",
    "# goldstd = r'/Users/larisams/Dropbox/Projects/BI/MineriaDatos2.0/Files/Evaluation/gold_std.txt'\n",
    "# output = r'/Users/larisams/Dropbox/Projects/BI/MineriaDatos2.0/Files/Evaluation/RsPhenInteractions_ignorecase.txt'\n",
    "# REQUIREMENTS : Tab-delimited flat text input files: gold standard and a the exteacted associations file \n",
    "# CATEGORY : Standalone\n",
    "# INPUT FORMAT : Flat text\n",
    "# OUTPUT FORMAT : The performance evaluation metrics are shown in the standard output \n",
    "# LANGUAGE : Python\n",
    "# PATH PROGRAM : /Users/larisams/Dropbox/Projects/BI/MineriaDatos/scripts\n",
    "# ============================================================================================="
   ]
  },
  {
   "cell_type": "markdown",
   "metadata": {},
   "source": [
    "# Evaluation of the extracted associations "
   ]
  },
  {
   "cell_type": "code",
   "execution_count": 4,
   "metadata": {
    "collapsed": true
   },
   "outputs": [],
   "source": [
    "import re\n",
    "from collections import defaultdict as df"
   ]
  },
  {
   "cell_type": "markdown",
   "metadata": {},
   "source": [
    "input = non-redundant gold standard and associations file    \n",
    "output = values of the metrics precision, recall and F1 score"
   ]
  },
  {
   "cell_type": "code",
   "execution_count": 8,
   "metadata": {
    "collapsed": true
   },
   "outputs": [],
   "source": [
    "goldstd = r'/Users/larisams/Dropbox/Projects/BI/MineriaDatos2.0/Files/Evaluation/gold_std.txt'\n",
    "output = r'/Users/larisams/Dropbox/Projects/BI/MineriaDatos2.0/Files/Evaluation/RsPhenInteractions_ignorecase.txt'"
   ]
  },
  {
   "cell_type": "code",
   "execution_count": 9,
   "metadata": {
    "collapsed": true
   },
   "outputs": [],
   "source": [
    "#Loading gold standard in gs_dic\n",
    "gs_dic = df(str)\n",
    "ref = 0\n",
    "with open(goldstd,'r') as gs:\n",
    "    for line in gs:\n",
    "        gs_dic[line.split('\\t')[0]] += line.split('\\t')[1]\n",
    "        ref += 1\n"
   ]
  },
  {
   "cell_type": "code",
   "execution_count": 10,
   "metadata": {
    "collapsed": true
   },
   "outputs": [],
   "source": [
    "#Comparing output to gold standard\n",
    "extr,extr_corr = 0,0\n",
    "with open(output,'r') as out:\n",
    "    for line in out:\n",
    "        line = line.rstrip('\\n')\n",
    "        rs,phen = line.split('\\t')[0],line.split('\\t')[1].rstrip('\\n')\n",
    "        if re.search(phen,gs_dic[rs],re.IGNORECASE):\n",
    "            extr_corr += 1\n",
    "        extr +=1"
   ]
  },
  {
   "cell_type": "code",
   "execution_count": 11,
   "metadata": {},
   "outputs": [
    {
     "name": "stdout",
     "output_type": "stream",
     "text": [
      "0.37652513421181066\n"
     ]
    }
   ],
   "source": [
    "# Calculating evaluation metrics\n",
    "precision = extr_corr/extr\n",
    "recall = extr_corr/ref\n",
    "print(precision)\n",
    "F_1 = 2*((precision*recall)/(precision+recall))"
   ]
  },
  {
   "cell_type": "code",
   "execution_count": 12,
   "metadata": {},
   "outputs": [
    {
     "name": "stdout",
     "output_type": "stream",
     "text": [
      "0.37652513421181066 0.10398975603181022 0.16297000422475708\n"
     ]
    }
   ],
   "source": [
    "print(precision,recall,F_1)"
   ]
  },
  {
   "cell_type": "code",
   "execution_count": 13,
   "metadata": {},
   "outputs": [
    {
     "name": "stdout",
     "output_type": "stream",
     "text": [
      "4098 1543 14838\n",
      "0.37652513421181066 0.10398975603181022 0.16297000422475708\n"
     ]
    }
   ],
   "source": [
    "print (extr,extr_corr,ref)\n",
    "print (precision,recall,F_1)"
   ]
  },
  {
   "cell_type": "code",
   "execution_count": null,
   "metadata": {
    "collapsed": true
   },
   "outputs": [],
   "source": []
  }
 ],
 "metadata": {
  "kernelspec": {
   "display_name": "Python 3",
   "language": "python",
   "name": "python3"
  },
  "language_info": {
   "codemirror_mode": {
    "name": "ipython",
    "version": 3
   },
   "file_extension": ".py",
   "mimetype": "text/x-python",
   "name": "python",
   "nbconvert_exporter": "python",
   "pygments_lexer": "ipython3",
   "version": "3.6.2"
  }
 },
 "nbformat": 4,
 "nbformat_minor": 2
}
